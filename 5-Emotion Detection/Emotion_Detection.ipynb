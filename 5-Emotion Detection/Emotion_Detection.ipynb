{
  "nbformat": 4,
  "nbformat_minor": 0,
  "metadata": {
    "colab": {
      "provenance": []
    },
    "kernelspec": {
      "name": "python3",
      "display_name": "Python 3"
    },
    "language_info": {
      "name": "python"
    },
    "accelerator": "GPU",
    "gpuClass": "standard"
  },
  "cells": [
    {
      "cell_type": "code",
      "execution_count": 1,
      "metadata": {
        "id": "q9VR9yF5Xvk8"
      },
      "outputs": [],
      "source": [
        " ! pip install -q kaggle\n"
      ]
    },
    {
      "cell_type": "code",
      "source": [
        " from google.colab import files\n"
      ],
      "metadata": {
        "id": "yncZaNcpX3Ry"
      },
      "execution_count": 2,
      "outputs": []
    },
    {
      "cell_type": "code",
      "source": [
        "files.upload()\n"
      ],
      "metadata": {
        "colab": {
          "base_uri": "https://localhost:8080/",
          "height": 88
        },
        "id": "HC9pXpg-X3Ze",
        "outputId": "887765c3-96bc-4ec2-da92-20ccb333716e"
      },
      "execution_count": 3,
      "outputs": [
        {
          "output_type": "display_data",
          "data": {
            "text/plain": [
              "<IPython.core.display.HTML object>"
            ],
            "text/html": [
              "\n",
              "     <input type=\"file\" id=\"files-7d389aae-4382-4b40-a757-8656115e07e5\" name=\"files[]\" multiple disabled\n",
              "        style=\"border:none\" />\n",
              "     <output id=\"result-7d389aae-4382-4b40-a757-8656115e07e5\">\n",
              "      Upload widget is only available when the cell has been executed in the\n",
              "      current browser session. Please rerun this cell to enable.\n",
              "      </output>\n",
              "      <script>// Copyright 2017 Google LLC\n",
              "//\n",
              "// Licensed under the Apache License, Version 2.0 (the \"License\");\n",
              "// you may not use this file except in compliance with the License.\n",
              "// You may obtain a copy of the License at\n",
              "//\n",
              "//      http://www.apache.org/licenses/LICENSE-2.0\n",
              "//\n",
              "// Unless required by applicable law or agreed to in writing, software\n",
              "// distributed under the License is distributed on an \"AS IS\" BASIS,\n",
              "// WITHOUT WARRANTIES OR CONDITIONS OF ANY KIND, either express or implied.\n",
              "// See the License for the specific language governing permissions and\n",
              "// limitations under the License.\n",
              "\n",
              "/**\n",
              " * @fileoverview Helpers for google.colab Python module.\n",
              " */\n",
              "(function(scope) {\n",
              "function span(text, styleAttributes = {}) {\n",
              "  const element = document.createElement('span');\n",
              "  element.textContent = text;\n",
              "  for (const key of Object.keys(styleAttributes)) {\n",
              "    element.style[key] = styleAttributes[key];\n",
              "  }\n",
              "  return element;\n",
              "}\n",
              "\n",
              "// Max number of bytes which will be uploaded at a time.\n",
              "const MAX_PAYLOAD_SIZE = 100 * 1024;\n",
              "\n",
              "function _uploadFiles(inputId, outputId) {\n",
              "  const steps = uploadFilesStep(inputId, outputId);\n",
              "  const outputElement = document.getElementById(outputId);\n",
              "  // Cache steps on the outputElement to make it available for the next call\n",
              "  // to uploadFilesContinue from Python.\n",
              "  outputElement.steps = steps;\n",
              "\n",
              "  return _uploadFilesContinue(outputId);\n",
              "}\n",
              "\n",
              "// This is roughly an async generator (not supported in the browser yet),\n",
              "// where there are multiple asynchronous steps and the Python side is going\n",
              "// to poll for completion of each step.\n",
              "// This uses a Promise to block the python side on completion of each step,\n",
              "// then passes the result of the previous step as the input to the next step.\n",
              "function _uploadFilesContinue(outputId) {\n",
              "  const outputElement = document.getElementById(outputId);\n",
              "  const steps = outputElement.steps;\n",
              "\n",
              "  const next = steps.next(outputElement.lastPromiseValue);\n",
              "  return Promise.resolve(next.value.promise).then((value) => {\n",
              "    // Cache the last promise value to make it available to the next\n",
              "    // step of the generator.\n",
              "    outputElement.lastPromiseValue = value;\n",
              "    return next.value.response;\n",
              "  });\n",
              "}\n",
              "\n",
              "/**\n",
              " * Generator function which is called between each async step of the upload\n",
              " * process.\n",
              " * @param {string} inputId Element ID of the input file picker element.\n",
              " * @param {string} outputId Element ID of the output display.\n",
              " * @return {!Iterable<!Object>} Iterable of next steps.\n",
              " */\n",
              "function* uploadFilesStep(inputId, outputId) {\n",
              "  const inputElement = document.getElementById(inputId);\n",
              "  inputElement.disabled = false;\n",
              "\n",
              "  const outputElement = document.getElementById(outputId);\n",
              "  outputElement.innerHTML = '';\n",
              "\n",
              "  const pickedPromise = new Promise((resolve) => {\n",
              "    inputElement.addEventListener('change', (e) => {\n",
              "      resolve(e.target.files);\n",
              "    });\n",
              "  });\n",
              "\n",
              "  const cancel = document.createElement('button');\n",
              "  inputElement.parentElement.appendChild(cancel);\n",
              "  cancel.textContent = 'Cancel upload';\n",
              "  const cancelPromise = new Promise((resolve) => {\n",
              "    cancel.onclick = () => {\n",
              "      resolve(null);\n",
              "    };\n",
              "  });\n",
              "\n",
              "  // Wait for the user to pick the files.\n",
              "  const files = yield {\n",
              "    promise: Promise.race([pickedPromise, cancelPromise]),\n",
              "    response: {\n",
              "      action: 'starting',\n",
              "    }\n",
              "  };\n",
              "\n",
              "  cancel.remove();\n",
              "\n",
              "  // Disable the input element since further picks are not allowed.\n",
              "  inputElement.disabled = true;\n",
              "\n",
              "  if (!files) {\n",
              "    return {\n",
              "      response: {\n",
              "        action: 'complete',\n",
              "      }\n",
              "    };\n",
              "  }\n",
              "\n",
              "  for (const file of files) {\n",
              "    const li = document.createElement('li');\n",
              "    li.append(span(file.name, {fontWeight: 'bold'}));\n",
              "    li.append(span(\n",
              "        `(${file.type || 'n/a'}) - ${file.size} bytes, ` +\n",
              "        `last modified: ${\n",
              "            file.lastModifiedDate ? file.lastModifiedDate.toLocaleDateString() :\n",
              "                                    'n/a'} - `));\n",
              "    const percent = span('0% done');\n",
              "    li.appendChild(percent);\n",
              "\n",
              "    outputElement.appendChild(li);\n",
              "\n",
              "    const fileDataPromise = new Promise((resolve) => {\n",
              "      const reader = new FileReader();\n",
              "      reader.onload = (e) => {\n",
              "        resolve(e.target.result);\n",
              "      };\n",
              "      reader.readAsArrayBuffer(file);\n",
              "    });\n",
              "    // Wait for the data to be ready.\n",
              "    let fileData = yield {\n",
              "      promise: fileDataPromise,\n",
              "      response: {\n",
              "        action: 'continue',\n",
              "      }\n",
              "    };\n",
              "\n",
              "    // Use a chunked sending to avoid message size limits. See b/62115660.\n",
              "    let position = 0;\n",
              "    do {\n",
              "      const length = Math.min(fileData.byteLength - position, MAX_PAYLOAD_SIZE);\n",
              "      const chunk = new Uint8Array(fileData, position, length);\n",
              "      position += length;\n",
              "\n",
              "      const base64 = btoa(String.fromCharCode.apply(null, chunk));\n",
              "      yield {\n",
              "        response: {\n",
              "          action: 'append',\n",
              "          file: file.name,\n",
              "          data: base64,\n",
              "        },\n",
              "      };\n",
              "\n",
              "      let percentDone = fileData.byteLength === 0 ?\n",
              "          100 :\n",
              "          Math.round((position / fileData.byteLength) * 100);\n",
              "      percent.textContent = `${percentDone}% done`;\n",
              "\n",
              "    } while (position < fileData.byteLength);\n",
              "  }\n",
              "\n",
              "  // All done.\n",
              "  yield {\n",
              "    response: {\n",
              "      action: 'complete',\n",
              "    }\n",
              "  };\n",
              "}\n",
              "\n",
              "scope.google = scope.google || {};\n",
              "scope.google.colab = scope.google.colab || {};\n",
              "scope.google.colab._files = {\n",
              "  _uploadFiles,\n",
              "  _uploadFilesContinue,\n",
              "};\n",
              "})(self);\n",
              "</script> "
            ]
          },
          "metadata": {}
        },
        {
          "output_type": "stream",
          "name": "stdout",
          "text": [
            "Saving kaggle.json to kaggle.json\n"
          ]
        },
        {
          "output_type": "execute_result",
          "data": {
            "text/plain": [
              "{'kaggle.json': b'{\"username\":\"belalmohamed271\",\"key\":\"49d7c7e93fdfb3359a4562d25d96f540\"}'}"
            ]
          },
          "metadata": {},
          "execution_count": 3
        }
      ]
    },
    {
      "cell_type": "code",
      "source": [
        " ! mkdir ~/.kaggle\n"
      ],
      "metadata": {
        "id": "vOXADsnKX3cZ"
      },
      "execution_count": 4,
      "outputs": []
    },
    {
      "cell_type": "code",
      "source": [
        "! cp kaggle.json ~/.kaggle/\n"
      ],
      "metadata": {
        "id": "Zh-oTRfiX3ff"
      },
      "execution_count": 5,
      "outputs": []
    },
    {
      "cell_type": "code",
      "source": [
        "! chmod 600 ~/.kaggle/kaggle.json\n"
      ],
      "metadata": {
        "id": "WiZfrQfAX3hQ"
      },
      "execution_count": 6,
      "outputs": []
    },
    {
      "cell_type": "code",
      "source": [
        "!kaggle datasets download -d ananthu017/emotion-detection-fer"
      ],
      "metadata": {
        "colab": {
          "base_uri": "https://localhost:8080/"
        },
        "id": "STpJWjY8X3jm",
        "outputId": "29046af1-2cd8-432e-c30b-c53475c66ad4"
      },
      "execution_count": 7,
      "outputs": [
        {
          "output_type": "stream",
          "name": "stdout",
          "text": [
            "Downloading emotion-detection-fer.zip to /content\n",
            " 98% 64.0M/65.2M [00:03<00:00, 17.8MB/s]\n",
            "100% 65.2M/65.2M [00:03<00:00, 17.6MB/s]\n"
          ]
        }
      ]
    },
    {
      "cell_type": "code",
      "source": [
        "! unzip /content/emotion-detection-fer.zip"
      ],
      "metadata": {
        "id": "xXAMaqKKX3lw"
      },
      "execution_count": null,
      "outputs": []
    },
    {
      "cell_type": "code",
      "source": [
        "import numpy as np\n",
        "import pandas as   pd \n",
        "import os\n",
        "import glob as gb  \n",
        "import matplotlib.pyplot as plt\n",
        "import cv2\n",
        "from sklearn.metrics import classification_report\n",
        "from sklearn.preprocessing import  LabelEncoder\n",
        "import tensorflow as tf\n",
        "from tensorflow import keras\n",
        "from keras.preprocessing import image\n",
        "from tensorflow.keras.utils import to_categorical    "
      ],
      "metadata": {
        "id": "eJZLoQ7NX3oK"
      },
      "execution_count": 9,
      "outputs": []
    },
    {
      "cell_type": "code",
      "source": [
        "train_data='/content/train/'\n",
        "test_data='/content/test/'"
      ],
      "metadata": {
        "id": "NrT8YAeDYf5i"
      },
      "execution_count": 62,
      "outputs": []
    },
    {
      "cell_type": "code",
      "source": [
        "def count_images(path):\n",
        "  \n",
        "    classes = [f for f in os.listdir(path) if os.path.isdir(os.path.join(path, f))]\n",
        "\n",
        "    print(f\"Number of classes : {len(classes)}\")\n",
        "\n",
        "    for folder in classes :\n",
        "        folder_path = os.path.join(path, folder)\n",
        "        image_files = [f for f in os.listdir(folder_path) if f.endswith('.jpg') or f.endswith('.png') or f.endswith('.jpeg')]\n",
        "        print(f\"class: {folder} has {len(image_files)} images\")\n"
      ],
      "metadata": {
        "id": "Pjk1lilCh9oR"
      },
      "execution_count": 53,
      "outputs": []
    },
    {
      "cell_type": "code",
      "source": [
        "count_images(\"/content/train\")"
      ],
      "metadata": {
        "colab": {
          "base_uri": "https://localhost:8080/"
        },
        "id": "lkzcjq0xiADG",
        "outputId": "a4bb963b-e767-4e36-aaa8-d3605af3b4b4"
      },
      "execution_count": 54,
      "outputs": [
        {
          "output_type": "stream",
          "name": "stdout",
          "text": [
            "Number of classes : 7\n",
            "class: sad has 4830 images\n",
            "class: angry has 3995 images\n",
            "class: happy has 7215 images\n",
            "class: neutral has 4965 images\n",
            "class: surprised has 3171 images\n",
            "class: disgusted has 436 images\n",
            "class: fearful has 4097 images\n"
          ]
        }
      ]
    },
    {
      "cell_type": "code",
      "source": [
        "count_images(\"/content/test\")"
      ],
      "metadata": {
        "colab": {
          "base_uri": "https://localhost:8080/"
        },
        "id": "pcEcMeIDiDBv",
        "outputId": "e92afd52-579d-44ba-8dfe-357d78755239"
      },
      "execution_count": 55,
      "outputs": [
        {
          "output_type": "stream",
          "name": "stdout",
          "text": [
            "Number of classes : 7\n",
            "class: sad has 1247 images\n",
            "class: angry has 958 images\n",
            "class: happy has 1774 images\n",
            "class: neutral has 1233 images\n",
            "class: surprised has 831 images\n",
            "class: disgusted has 111 images\n",
            "class: fearful has 1024 images\n"
          ]
        }
      ]
    },
    {
      "cell_type": "code",
      "source": [
        "size = []\n",
        "for  folder in os.listdir(train_data):\n",
        "    files =  gb.glob(pathname=str(train_data +folder+'//*.png'))\n",
        "    for file in files:\n",
        "        img = cv2.imread(file)\n",
        "        size.append(img.shape)\n",
        "\n",
        "        \n",
        "pd.Series(size).value_counts()"
      ],
      "metadata": {
        "colab": {
          "base_uri": "https://localhost:8080/"
        },
        "id": "JoMcTKTXYgAI",
        "outputId": "5eb0cab2-40f4-4d9b-e9ba-8a1bf367678e"
      },
      "execution_count": 64,
      "outputs": [
        {
          "output_type": "execute_result",
          "data": {
            "text/plain": [
              "(48, 48, 3)    28709\n",
              "dtype: int64"
            ]
          },
          "metadata": {},
          "execution_count": 64
        }
      ]
    },
    {
      "cell_type": "code",
      "source": [
        "size = []\n",
        "for  folder in os.listdir(test_data):\n",
        "    files =  gb.glob(pathname=str(test_data +folder+'//*.png'))\n",
        "    for file in files:\n",
        "        img = cv2.imread(file)\n",
        "        size.append(img.shape)\n",
        "\n",
        "        \n",
        "pd.Series(size).value_counts()\n",
        "     "
      ],
      "metadata": {
        "colab": {
          "base_uri": "https://localhost:8080/"
        },
        "id": "MDJpuq0RX3ti",
        "outputId": "5e2ec129-4011-47dd-ff22-59640b9705b4"
      },
      "execution_count": 63,
      "outputs": [
        {
          "output_type": "execute_result",
          "data": {
            "text/plain": [
              "(48, 48, 3)    7178\n",
              "dtype: int64"
            ]
          },
          "metadata": {},
          "execution_count": 63
        }
      ]
    },
    {
      "cell_type": "code",
      "source": [
        "X_train = []\n",
        "y_train = []\n",
        "for  folder in os.listdir(train_path):\n",
        "    files =  gb.glob(pathname=str(train_path +folder+'//*.png'))\n",
        "    for file in files:\n",
        "        img = cv2.imread(file)\n",
        "        X_train.append(list(img))\n",
        "        y_train.append(folder)"
      ],
      "metadata": {
        "id": "B_IB5iTFX3wA"
      },
      "execution_count": 89,
      "outputs": []
    },
    {
      "cell_type": "code",
      "source": [
        "print(f\"number of items in X_train: {len(X_train)}\")"
      ],
      "metadata": {
        "colab": {
          "base_uri": "https://localhost:8080/"
        },
        "id": "aZ_hDPFzlNud",
        "outputId": "8ca1ae57-e0af-4c8e-f5e3-5639ef897a71"
      },
      "execution_count": 81,
      "outputs": [
        {
          "output_type": "stream",
          "name": "stdout",
          "text": [
            "number of items in X_train: 28709\n"
          ]
        }
      ]
    },
    {
      "cell_type": "code",
      "source": [
        "plt.figure(figsize=(10, 10))\n",
        "for i in range(4):\n",
        "    plt.subplot(1, 4, i+1)\n",
        "    plt.imshow(X_train[i], cmap=\"gray\")\n",
        "    plt.title(y_train[i])\n",
        "    plt.axis('off')\n",
        "plt.show()"
      ],
      "metadata": {
        "colab": {
          "base_uri": "https://localhost:8080/",
          "height": 168
        },
        "id": "tWH1QRv5lqiZ",
        "outputId": "46d78caa-d8cb-4ad1-a111-cc39393ec654"
      },
      "execution_count": 82,
      "outputs": [
        {
          "output_type": "display_data",
          "data": {
            "text/plain": [
              "<Figure size 720x720 with 4 Axes>"
            ],
            "image/png": "[encoded data removed]"
          },
          "metadata": {
            "needs_background": "light"
          }
        }
      ]
    },
    {
      "cell_type": "code",
      "source": [
        "X_test = []\n",
        "y_test = []\n",
        "for  folder in os.listdir(test_data):\n",
        "    files =  gb.glob(pathname=str(test_data +folder+'//*.png'))\n",
        "    for file in files:\n",
        "        img = cv2.imread(file)\n",
        "        X_test.append(list(img))\n",
        "        y_test.append(folder)"
      ],
      "metadata": {
        "id": "tK5dWY1xY4bJ"
      },
      "execution_count": 88,
      "outputs": []
    },
    {
      "cell_type": "code",
      "source": [
        "print(f\"number of items in X_test: {len(X_test)}\")"
      ],
      "metadata": {
        "colab": {
          "base_uri": "https://localhost:8080/"
        },
        "id": "cDkoWaBSY4d3",
        "outputId": "a4be0b7e-21d6-415f-cdaa-1dece8834a70"
      },
      "execution_count": 85,
      "outputs": [
        {
          "output_type": "stream",
          "name": "stdout",
          "text": [
            "number of items in X_test: 7178\n"
          ]
        }
      ]
    },
    {
      "cell_type": "code",
      "source": [
        "plt.figure(figsize=(10, 10))\n",
        "for i in range(4):\n",
        "    plt.subplot(1, 4, i+1)\n",
        "    plt.imshow(X_test[i], cmap=\"gray\")\n",
        "    plt.title(y_test[i])\n",
        "    plt.axis('off')\n",
        "plt.show()"
      ],
      "metadata": {
        "colab": {
          "base_uri": "https://localhost:8080/",
          "height": 168
        },
        "id": "FXXHm6pBnWY8",
        "outputId": "6c45578e-d8e7-4cc0-a9a8-caf6521852b0"
      },
      "execution_count": 86,
      "outputs": [
        {
          "output_type": "display_data",
          "data": {
            "text/plain": [
              "<Figure size 720x720 with 4 Axes>"
            ],
            "image/png": "[encoded data removed]"
          },
          "metadata": {
            "needs_background": "light"
          }
        }
      ]
    },
    {
      "cell_type": "code",
      "source": [
        "x_train = np.array(X_train) /255.0\n",
        "x_test = np.array(X_test)/255.0\n",
        "\n",
        "print(f'X_train shape  is {x_train.shape}')\n",
        "print(f'X_test shape  is {x_test.shape}')"
      ],
      "metadata": {
        "colab": {
          "base_uri": "https://localhost:8080/"
        },
        "id": "kdifXtqTY4ia",
        "outputId": "2d847abf-4e2a-490a-82a5-c1ddc9858d73"
      },
      "execution_count": 91,
      "outputs": [
        {
          "output_type": "stream",
          "name": "stdout",
          "text": [
            "X_train shape  is (28709, 48, 48, 3)\n",
            "X_test shape  is (7178, 48, 48, 3)\n"
          ]
        }
      ]
    },
    {
      "cell_type": "code",
      "source": [
        "y_train = np.array(y_train)\n",
        "y_test = np.array(y_test)\n",
        "print(f'y_train shape  is {y_train.shape}')\n",
        "print(f'y_test shape  is {y_test.shape}')"
      ],
      "metadata": {
        "colab": {
          "base_uri": "https://localhost:8080/"
        },
        "id": "-WP0HTL4Y4lB",
        "outputId": "b2bd5c4d-119d-4d03-e94d-ecf9cafe6f3c"
      },
      "execution_count": 92,
      "outputs": [
        {
          "output_type": "stream",
          "name": "stdout",
          "text": [
            "y_train shape  is (28709,)\n",
            "y_test shape  is (7178,)\n"
          ]
        }
      ]
    },
    {
      "cell_type": "code",
      "source": [
        "le = LabelEncoder()\n",
        "y_train = to_categorical(le.fit_transform(y_train))\n",
        "y_test = to_categorical(le.fit_transform(y_test))"
      ],
      "metadata": {
        "id": "boE6SRQnY4nn"
      },
      "execution_count": 93,
      "outputs": []
    },
    {
      "cell_type": "code",
      "source": [
        "y_train.shape\n"
      ],
      "metadata": {
        "colab": {
          "base_uri": "https://localhost:8080/"
        },
        "id": "eNFN_JLHY4py",
        "outputId": "eca9082a-fc8a-45a1-b2a6-5d0991ebe6de"
      },
      "execution_count": 94,
      "outputs": [
        {
          "output_type": "execute_result",
          "data": {
            "text/plain": [
              "(28709, 7)"
            ]
          },
          "metadata": {},
          "execution_count": 94
        }
      ]
    },
    {
      "cell_type": "code",
      "source": [
        "import keras\n",
        "from keras.models import Sequential\n",
        "from keras.layers import Conv2D, MaxPooling2D, Flatten, Dense, Dropout\n",
        "\n",
        "model = Sequential()\n",
        "model.add(Conv2D(32, (3,3), activation='relu', input_shape=(48,48,3)))\n",
        "model.add(MaxPooling2D(2,2))\n",
        "model.add(Conv2D(64, (3,3), activation='relu'))\n",
        "model.add(MaxPooling2D(2,2))\n",
        "model.add(Flatten())\n",
        "model.add(Dense(128, activation='relu'))\n",
        "model.add(Dropout(0.5))\n",
        "model.add(Dense(7, activation='softmax'))\n",
        "model.compile(loss='categorical_crossentropy', optimizer='adam', metrics=['accuracy'])\n"
      ],
      "metadata": {
        "id": "vAEUKm2WeNTx"
      },
      "execution_count": 96,
      "outputs": []
    },
    {
      "cell_type": "code",
      "source": [
        "model.summary()"
      ],
      "metadata": {
        "colab": {
          "base_uri": "https://localhost:8080/"
        },
        "id": "UHR3IbTzeNYo",
        "outputId": "99e1b68b-f9ec-45eb-db7b-b6f5ba369b4f"
      },
      "execution_count": 97,
      "outputs": [
        {
          "output_type": "stream",
          "name": "stdout",
          "text": [
            "Model: \"sequential_3\"\n",
            "_________________________________________________________________\n",
            " Layer (type)                Output Shape              Param #   \n",
            "=================================================================\n",
            " conv2d_6 (Conv2D)           (None, 46, 46, 32)        896       \n",
            "                                                                 \n",
            " max_pooling2d_6 (MaxPooling  (None, 23, 23, 32)       0         \n",
            " 2D)                                                             \n",
            "                                                                 \n",
            " conv2d_7 (Conv2D)           (None, 21, 21, 64)        18496     \n",
            "                                                                 \n",
            " max_pooling2d_7 (MaxPooling  (None, 10, 10, 64)       0         \n",
            " 2D)                                                             \n",
            "                                                                 \n",
            " flatten_6 (Flatten)         (None, 6400)              0         \n",
            "                                                                 \n",
            " dense_9 (Dense)             (None, 128)               819328    \n",
            "                                                                 \n",
            " dropout_3 (Dropout)         (None, 128)               0         \n",
            "                                                                 \n",
            " dense_10 (Dense)            (None, 7)                 903       \n",
            "                                                                 \n",
            "=================================================================\n",
            "Total params: 839,623\n",
            "Trainable params: 839,623\n",
            "Non-trainable params: 0\n",
            "_________________________________________________________________\n"
          ]
        }
      ]
    },
    {
      "cell_type": "code",
      "source": [
        "logdir='logs'"
      ],
      "metadata": {
        "id": "a5HOeObpeNa8"
      },
      "execution_count": 98,
      "outputs": []
    },
    {
      "cell_type": "code",
      "source": [
        "tensorboard_callback = tf.keras.callbacks.TensorBoard(log_dir=logdir)"
      ],
      "metadata": {
        "id": "do_RvYMEozxN"
      },
      "execution_count": 99,
      "outputs": []
    },
    {
      "cell_type": "code",
      "source": [
        "model =model.fit(x_train, y_train,batch_size=128, epochs=100,verbose=1,validation_data=(x_test,y_test),callbacks=[tensorboard_callback])"
      ],
      "metadata": {
        "colab": {
          "base_uri": "https://localhost:8080/"
        },
        "id": "t94-vO84X33D",
        "outputId": "ba0012df-6915-4747-a33e-e2098a21e947"
      },
      "execution_count": 100,
      "outputs": [
        {
          "output_type": "stream",
          "name": "stdout",
          "text": [
            "Epoch 1/100\n",
            "225/225 [==============================] - 5s 13ms/step - loss: 1.7052 - accuracy: 0.3244 - val_loss: 1.5242 - val_accuracy: 0.4237\n",
            "Epoch 2/100\n",
            "225/225 [==============================] - 2s 10ms/step - loss: 1.5087 - accuracy: 0.4210 - val_loss: 1.3986 - val_accuracy: 0.4656\n",
            "Epoch 3/100\n",
            "225/225 [==============================] - 2s 10ms/step - loss: 1.4244 - accuracy: 0.4527 - val_loss: 1.3588 - val_accuracy: 0.4823\n",
            "Epoch 4/100\n",
            "225/225 [==============================] - 2s 10ms/step - loss: 1.3700 - accuracy: 0.4727 - val_loss: 1.3186 - val_accuracy: 0.4930\n",
            "Epoch 5/100\n",
            "225/225 [==============================] - 3s 13ms/step - loss: 1.3197 - accuracy: 0.4950 - val_loss: 1.2992 - val_accuracy: 0.4953\n",
            "Epoch 6/100\n",
            "225/225 [==============================] - 2s 11ms/step - loss: 1.2810 - accuracy: 0.5106 - val_loss: 1.2553 - val_accuracy: 0.5130\n",
            "Epoch 7/100\n",
            "225/225 [==============================] - 2s 10ms/step - loss: 1.2332 - accuracy: 0.5300 - val_loss: 1.2397 - val_accuracy: 0.5244\n",
            "Epoch 8/100\n",
            "225/225 [==============================] - 2s 11ms/step - loss: 1.1955 - accuracy: 0.5428 - val_loss: 1.2280 - val_accuracy: 0.5237\n",
            "Epoch 9/100\n",
            "225/225 [==============================] - 2s 11ms/step - loss: 1.1615 - accuracy: 0.5579 - val_loss: 1.2332 - val_accuracy: 0.5279\n",
            "Epoch 10/100\n",
            "225/225 [==============================] - 3s 12ms/step - loss: 1.1175 - accuracy: 0.5744 - val_loss: 1.2196 - val_accuracy: 0.5304\n",
            "Epoch 11/100\n",
            "225/225 [==============================] - 2s 10ms/step - loss: 1.0798 - accuracy: 0.5883 - val_loss: 1.2309 - val_accuracy: 0.5346\n",
            "Epoch 12/100\n",
            "225/225 [==============================] - 2s 11ms/step - loss: 1.0366 - accuracy: 0.5984 - val_loss: 1.2094 - val_accuracy: 0.5414\n",
            "Epoch 13/100\n",
            "225/225 [==============================] - 2s 11ms/step - loss: 1.0033 - accuracy: 0.6148 - val_loss: 1.2242 - val_accuracy: 0.5401\n",
            "Epoch 14/100\n",
            "225/225 [==============================] - 2s 11ms/step - loss: 0.9705 - accuracy: 0.6268 - val_loss: 1.2388 - val_accuracy: 0.5454\n",
            "Epoch 15/100\n",
            "225/225 [==============================] - 3s 11ms/step - loss: 0.9318 - accuracy: 0.6392 - val_loss: 1.2571 - val_accuracy: 0.5400\n",
            "Epoch 16/100\n",
            "225/225 [==============================] - 2s 11ms/step - loss: 0.8931 - accuracy: 0.6545 - val_loss: 1.2805 - val_accuracy: 0.5439\n",
            "Epoch 17/100\n",
            "225/225 [==============================] - 2s 11ms/step - loss: 0.8690 - accuracy: 0.6639 - val_loss: 1.2967 - val_accuracy: 0.5428\n",
            "Epoch 18/100\n",
            "225/225 [==============================] - 2s 10ms/step - loss: 0.8340 - accuracy: 0.6769 - val_loss: 1.3012 - val_accuracy: 0.5407\n",
            "Epoch 19/100\n",
            "225/225 [==============================] - 2s 11ms/step - loss: 0.8038 - accuracy: 0.6865 - val_loss: 1.3181 - val_accuracy: 0.5410\n",
            "Epoch 20/100\n",
            "225/225 [==============================] - 3s 12ms/step - loss: 0.7839 - accuracy: 0.6941 - val_loss: 1.3666 - val_accuracy: 0.5369\n",
            "Epoch 21/100\n",
            "225/225 [==============================] - 2s 11ms/step - loss: 0.7506 - accuracy: 0.7064 - val_loss: 1.3879 - val_accuracy: 0.5414\n",
            "Epoch 22/100\n",
            "225/225 [==============================] - 2s 10ms/step - loss: 0.7288 - accuracy: 0.7134 - val_loss: 1.3936 - val_accuracy: 0.5418\n",
            "Epoch 23/100\n",
            "225/225 [==============================] - 2s 10ms/step - loss: 0.7056 - accuracy: 0.7211 - val_loss: 1.4469 - val_accuracy: 0.5400\n",
            "Epoch 24/100\n",
            "225/225 [==============================] - 2s 10ms/step - loss: 0.6786 - accuracy: 0.7300 - val_loss: 1.5024 - val_accuracy: 0.5439\n",
            "Epoch 25/100\n",
            "225/225 [==============================] - 3s 11ms/step - loss: 0.6663 - accuracy: 0.7361 - val_loss: 1.5276 - val_accuracy: 0.5435\n",
            "Epoch 26/100\n",
            "225/225 [==============================] - 2s 11ms/step - loss: 0.6355 - accuracy: 0.7455 - val_loss: 1.5825 - val_accuracy: 0.5457\n",
            "Epoch 27/100\n",
            "225/225 [==============================] - 2s 10ms/step - loss: 0.6142 - accuracy: 0.7543 - val_loss: 1.5758 - val_accuracy: 0.5412\n",
            "Epoch 28/100\n",
            "225/225 [==============================] - 2s 10ms/step - loss: 0.5969 - accuracy: 0.7586 - val_loss: 1.6317 - val_accuracy: 0.5446\n",
            "Epoch 29/100\n",
            "225/225 [==============================] - 2s 10ms/step - loss: 0.5907 - accuracy: 0.7603 - val_loss: 1.6826 - val_accuracy: 0.5419\n",
            "Epoch 30/100\n",
            "225/225 [==============================] - 2s 11ms/step - loss: 0.5646 - accuracy: 0.7715 - val_loss: 1.7268 - val_accuracy: 0.5390\n",
            "Epoch 31/100\n",
            "225/225 [==============================] - 3s 12ms/step - loss: 0.5584 - accuracy: 0.7723 - val_loss: 1.7161 - val_accuracy: 0.5443\n",
            "Epoch 32/100\n",
            "225/225 [==============================] - 2s 10ms/step - loss: 0.5409 - accuracy: 0.7810 - val_loss: 1.8393 - val_accuracy: 0.5492\n",
            "Epoch 33/100\n",
            "225/225 [==============================] - 2s 10ms/step - loss: 0.5264 - accuracy: 0.7829 - val_loss: 1.8284 - val_accuracy: 0.5432\n",
            "Epoch 34/100\n",
            "225/225 [==============================] - 2s 10ms/step - loss: 0.5210 - accuracy: 0.7873 - val_loss: 1.7817 - val_accuracy: 0.5465\n",
            "Epoch 35/100\n",
            "225/225 [==============================] - 3s 12ms/step - loss: 0.4886 - accuracy: 0.8001 - val_loss: 1.9236 - val_accuracy: 0.5437\n",
            "Epoch 36/100\n",
            "225/225 [==============================] - 3s 11ms/step - loss: 0.4893 - accuracy: 0.7984 - val_loss: 2.0792 - val_accuracy: 0.5450\n",
            "Epoch 37/100\n",
            "225/225 [==============================] - 2s 10ms/step - loss: 0.4858 - accuracy: 0.7991 - val_loss: 1.9821 - val_accuracy: 0.5379\n",
            "Epoch 38/100\n",
            "225/225 [==============================] - 2s 10ms/step - loss: 0.4734 - accuracy: 0.8054 - val_loss: 2.0132 - val_accuracy: 0.5426\n",
            "Epoch 39/100\n",
            "225/225 [==============================] - 2s 11ms/step - loss: 0.4638 - accuracy: 0.8079 - val_loss: 2.0759 - val_accuracy: 0.5443\n",
            "Epoch 40/100\n",
            "225/225 [==============================] - 2s 11ms/step - loss: 0.4514 - accuracy: 0.8118 - val_loss: 2.1122 - val_accuracy: 0.5396\n",
            "Epoch 41/100\n",
            "225/225 [==============================] - 3s 11ms/step - loss: 0.4437 - accuracy: 0.8159 - val_loss: 2.1335 - val_accuracy: 0.5365\n",
            "Epoch 42/100\n",
            "225/225 [==============================] - 2s 11ms/step - loss: 0.4493 - accuracy: 0.8124 - val_loss: 2.2581 - val_accuracy: 0.5468\n",
            "Epoch 43/100\n",
            "225/225 [==============================] - 2s 10ms/step - loss: 0.4374 - accuracy: 0.8167 - val_loss: 2.2286 - val_accuracy: 0.5425\n",
            "Epoch 44/100\n",
            "225/225 [==============================] - 2s 10ms/step - loss: 0.4228 - accuracy: 0.8248 - val_loss: 2.3789 - val_accuracy: 0.5436\n",
            "Epoch 45/100\n",
            "225/225 [==============================] - 2s 10ms/step - loss: 0.4171 - accuracy: 0.8234 - val_loss: 2.3493 - val_accuracy: 0.5334\n",
            "Epoch 46/100\n",
            "225/225 [==============================] - 3s 11ms/step - loss: 0.4109 - accuracy: 0.8303 - val_loss: 2.4516 - val_accuracy: 0.5461\n",
            "Epoch 47/100\n",
            "225/225 [==============================] - 2s 11ms/step - loss: 0.4127 - accuracy: 0.8270 - val_loss: 2.3899 - val_accuracy: 0.5329\n",
            "Epoch 48/100\n",
            "225/225 [==============================] - 2s 10ms/step - loss: 0.4148 - accuracy: 0.8264 - val_loss: 2.3798 - val_accuracy: 0.5385\n",
            "Epoch 49/100\n",
            "225/225 [==============================] - 2s 10ms/step - loss: 0.3964 - accuracy: 0.8351 - val_loss: 2.5592 - val_accuracy: 0.5404\n",
            "Epoch 50/100\n",
            "225/225 [==============================] - 2s 10ms/step - loss: 0.3878 - accuracy: 0.8372 - val_loss: 2.5119 - val_accuracy: 0.5433\n",
            "Epoch 51/100\n",
            "225/225 [==============================] - 3s 12ms/step - loss: 0.3865 - accuracy: 0.8385 - val_loss: 2.5755 - val_accuracy: 0.5437\n",
            "Epoch 52/100\n",
            "225/225 [==============================] - 2s 11ms/step - loss: 0.3961 - accuracy: 0.8359 - val_loss: 2.5133 - val_accuracy: 0.5410\n",
            "Epoch 53/100\n",
            "225/225 [==============================] - 2s 10ms/step - loss: 0.3770 - accuracy: 0.8416 - val_loss: 2.6649 - val_accuracy: 0.5404\n",
            "Epoch 54/100\n",
            "225/225 [==============================] - 2s 10ms/step - loss: 0.3805 - accuracy: 0.8401 - val_loss: 2.6534 - val_accuracy: 0.5379\n",
            "Epoch 55/100\n",
            "225/225 [==============================] - 2s 10ms/step - loss: 0.3718 - accuracy: 0.8420 - val_loss: 2.7081 - val_accuracy: 0.5425\n",
            "Epoch 56/100\n",
            "225/225 [==============================] - 3s 12ms/step - loss: 0.3631 - accuracy: 0.8474 - val_loss: 2.7682 - val_accuracy: 0.5378\n",
            "Epoch 57/100\n",
            "225/225 [==============================] - 2s 10ms/step - loss: 0.3664 - accuracy: 0.8452 - val_loss: 2.6978 - val_accuracy: 0.5430\n",
            "Epoch 58/100\n",
            "225/225 [==============================] - 2s 11ms/step - loss: 0.3622 - accuracy: 0.8499 - val_loss: 2.8453 - val_accuracy: 0.5467\n",
            "Epoch 59/100\n",
            "225/225 [==============================] - 2s 10ms/step - loss: 0.3650 - accuracy: 0.8448 - val_loss: 2.7872 - val_accuracy: 0.5465\n",
            "Epoch 60/100\n",
            "225/225 [==============================] - 2s 11ms/step - loss: 0.3592 - accuracy: 0.8478 - val_loss: 2.8492 - val_accuracy: 0.5382\n",
            "Epoch 61/100\n",
            "225/225 [==============================] - 3s 12ms/step - loss: 0.3554 - accuracy: 0.8506 - val_loss: 2.8545 - val_accuracy: 0.5408\n",
            "Epoch 62/100\n",
            "225/225 [==============================] - 2s 11ms/step - loss: 0.3510 - accuracy: 0.8511 - val_loss: 2.8918 - val_accuracy: 0.5436\n",
            "Epoch 63/100\n",
            "225/225 [==============================] - 2s 10ms/step - loss: 0.3486 - accuracy: 0.8554 - val_loss: 2.9033 - val_accuracy: 0.5398\n",
            "Epoch 64/100\n",
            "225/225 [==============================] - 2s 10ms/step - loss: 0.3410 - accuracy: 0.8553 - val_loss: 3.0936 - val_accuracy: 0.5405\n",
            "Epoch 65/100\n",
            "225/225 [==============================] - 2s 11ms/step - loss: 0.3407 - accuracy: 0.8548 - val_loss: 2.9175 - val_accuracy: 0.5457\n",
            "Epoch 66/100\n",
            "225/225 [==============================] - 3s 12ms/step - loss: 0.3387 - accuracy: 0.8582 - val_loss: 3.0097 - val_accuracy: 0.5375\n",
            "Epoch 67/100\n",
            "225/225 [==============================] - 2s 11ms/step - loss: 0.3441 - accuracy: 0.8534 - val_loss: 3.0058 - val_accuracy: 0.5428\n",
            "Epoch 68/100\n",
            "225/225 [==============================] - 2s 11ms/step - loss: 0.3338 - accuracy: 0.8582 - val_loss: 3.0275 - val_accuracy: 0.5412\n",
            "Epoch 69/100\n",
            "225/225 [==============================] - 2s 10ms/step - loss: 0.3334 - accuracy: 0.8587 - val_loss: 3.1278 - val_accuracy: 0.5442\n",
            "Epoch 70/100\n",
            "225/225 [==============================] - 2s 11ms/step - loss: 0.3299 - accuracy: 0.8613 - val_loss: 2.9733 - val_accuracy: 0.5437\n",
            "Epoch 71/100\n",
            "225/225 [==============================] - 3s 13ms/step - loss: 0.3306 - accuracy: 0.8599 - val_loss: 3.1832 - val_accuracy: 0.5383\n",
            "Epoch 72/100\n",
            "225/225 [==============================] - 2s 11ms/step - loss: 0.3252 - accuracy: 0.8622 - val_loss: 3.2057 - val_accuracy: 0.5362\n",
            "Epoch 73/100\n",
            "225/225 [==============================] - 2s 10ms/step - loss: 0.3265 - accuracy: 0.8594 - val_loss: 3.3600 - val_accuracy: 0.5350\n",
            "Epoch 74/100\n",
            "225/225 [==============================] - 2s 10ms/step - loss: 0.3269 - accuracy: 0.8625 - val_loss: 3.2567 - val_accuracy: 0.5436\n",
            "Epoch 75/100\n",
            "225/225 [==============================] - 2s 11ms/step - loss: 0.3274 - accuracy: 0.8595 - val_loss: 3.2079 - val_accuracy: 0.5375\n",
            "Epoch 76/100\n",
            "225/225 [==============================] - 3s 13ms/step - loss: 0.3195 - accuracy: 0.8650 - val_loss: 3.2707 - val_accuracy: 0.5334\n",
            "Epoch 77/100\n",
            "225/225 [==============================] - 2s 10ms/step - loss: 0.3239 - accuracy: 0.8629 - val_loss: 3.5691 - val_accuracy: 0.5418\n",
            "Epoch 78/100\n",
            "225/225 [==============================] - 2s 11ms/step - loss: 0.3155 - accuracy: 0.8662 - val_loss: 3.3970 - val_accuracy: 0.5375\n",
            "Epoch 79/100\n",
            "225/225 [==============================] - 2s 11ms/step - loss: 0.3189 - accuracy: 0.8646 - val_loss: 3.2565 - val_accuracy: 0.5379\n",
            "Epoch 80/100\n",
            "225/225 [==============================] - 2s 11ms/step - loss: 0.3179 - accuracy: 0.8654 - val_loss: 3.5276 - val_accuracy: 0.5355\n",
            "Epoch 81/100\n",
            "225/225 [==============================] - 3s 12ms/step - loss: 0.3047 - accuracy: 0.8690 - val_loss: 3.5045 - val_accuracy: 0.5375\n",
            "Epoch 82/100\n",
            "225/225 [==============================] - 2s 10ms/step - loss: 0.3045 - accuracy: 0.8697 - val_loss: 3.3901 - val_accuracy: 0.5390\n",
            "Epoch 83/100\n",
            "225/225 [==============================] - 2s 11ms/step - loss: 0.3028 - accuracy: 0.8704 - val_loss: 3.4285 - val_accuracy: 0.5444\n",
            "Epoch 84/100\n",
            "225/225 [==============================] - 2s 10ms/step - loss: 0.3084 - accuracy: 0.8678 - val_loss: 3.5707 - val_accuracy: 0.5385\n",
            "Epoch 85/100\n",
            "225/225 [==============================] - 2s 11ms/step - loss: 0.3026 - accuracy: 0.8714 - val_loss: 3.3337 - val_accuracy: 0.5375\n",
            "Epoch 86/100\n",
            "225/225 [==============================] - 3s 12ms/step - loss: 0.2936 - accuracy: 0.8756 - val_loss: 3.5879 - val_accuracy: 0.5412\n",
            "Epoch 87/100\n",
            "225/225 [==============================] - 2s 11ms/step - loss: 0.3006 - accuracy: 0.8724 - val_loss: 3.6231 - val_accuracy: 0.5376\n",
            "Epoch 88/100\n",
            "225/225 [==============================] - 2s 11ms/step - loss: 0.3027 - accuracy: 0.8750 - val_loss: 3.4909 - val_accuracy: 0.5346\n",
            "Epoch 89/100\n",
            "225/225 [==============================] - 2s 10ms/step - loss: 0.3041 - accuracy: 0.8707 - val_loss: 3.5189 - val_accuracy: 0.5396\n",
            "Epoch 90/100\n",
            "225/225 [==============================] - 2s 10ms/step - loss: 0.2912 - accuracy: 0.8768 - val_loss: 3.5281 - val_accuracy: 0.5380\n",
            "Epoch 91/100\n",
            "225/225 [==============================] - 3s 12ms/step - loss: 0.2918 - accuracy: 0.8752 - val_loss: 3.8115 - val_accuracy: 0.5341\n",
            "Epoch 92/100\n",
            "225/225 [==============================] - 2s 10ms/step - loss: 0.2970 - accuracy: 0.8732 - val_loss: 3.4482 - val_accuracy: 0.5350\n",
            "Epoch 93/100\n",
            "225/225 [==============================] - 2s 10ms/step - loss: 0.2940 - accuracy: 0.8752 - val_loss: 3.6651 - val_accuracy: 0.5346\n",
            "Epoch 94/100\n",
            "225/225 [==============================] - 2s 10ms/step - loss: 0.2858 - accuracy: 0.8764 - val_loss: 3.7575 - val_accuracy: 0.5376\n",
            "Epoch 95/100\n",
            "225/225 [==============================] - 2s 10ms/step - loss: 0.2864 - accuracy: 0.8757 - val_loss: 3.7875 - val_accuracy: 0.5368\n",
            "Epoch 96/100\n",
            "225/225 [==============================] - 3s 12ms/step - loss: 0.2920 - accuracy: 0.8746 - val_loss: 3.6652 - val_accuracy: 0.5309\n",
            "Epoch 97/100\n",
            "225/225 [==============================] - 2s 11ms/step - loss: 0.2834 - accuracy: 0.8809 - val_loss: 3.8190 - val_accuracy: 0.5382\n",
            "Epoch 98/100\n",
            "225/225 [==============================] - 2s 11ms/step - loss: 0.2816 - accuracy: 0.8788 - val_loss: 3.7904 - val_accuracy: 0.5337\n",
            "Epoch 99/100\n",
            "225/225 [==============================] - 2s 11ms/step - loss: 0.2785 - accuracy: 0.8825 - val_loss: 3.9474 - val_accuracy: 0.5390\n",
            "Epoch 100/100\n",
            "225/225 [==============================] - 2s 10ms/step - loss: 0.2811 - accuracy: 0.8802 - val_loss: 3.6732 - val_accuracy: 0.5361\n"
          ]
        }
      ]
    },
    {
      "cell_type": "code",
      "source": [
        "plt.plot(model.history['accuracy'])\n",
        "plt.plot(model.history['val_accuracy'])\n",
        "plt.title('Model Accuracy')\n",
        "plt.ylabel('Accuracy')\n",
        "plt.xlabel('Epoch')\n",
        "plt.legend(['Train', 'Validation'], loc='upper left')\n",
        "plt.show()"
      ],
      "metadata": {
        "colab": {
          "base_uri": "https://localhost:8080/",
          "height": 295
        },
        "id": "v8AcIy3rrfSk",
        "outputId": "381feb16-b97d-45af-b34a-9f06c5de9b87"
      },
      "execution_count": 103,
      "outputs": [
        {
          "output_type": "display_data",
          "data": {
            "text/plain": [
              "<Figure size 432x288 with 1 Axes>"
            ],
            "image/png": "[encoded data removed]"
          },
          "metadata": {
            "needs_background": "light"
          }
        }
      ]
    },
    {
      "cell_type": "code",
      "source": [
        "plt.plot(model.history['loss'])\n",
        "plt.plot(model.history['val_loss'])\n",
        "plt.title('Model Loss')\n",
        "plt.ylabel('Loss')\n",
        "plt.xlabel('Epoch')\n",
        "plt.legend(['Train', 'Validation'], loc='upper right')\n",
        "plt.show()"
      ],
      "metadata": {
        "colab": {
          "base_uri": "https://localhost:8080/",
          "height": 295
        },
        "id": "mX1HI2Syr9lN",
        "outputId": "5d21ab92-8f30-47f4-b99c-f750d5807215"
      },
      "execution_count": 104,
      "outputs": [
        {
          "output_type": "display_data",
          "data": {
            "text/plain": [
              "<Figure size 432x288 with 1 Axes>"
            ],
            "image/png": "[encoded data removed]"
          },
          "metadata": {
            "needs_background": "light"
          }
        }
      ]
    }
  ]
}