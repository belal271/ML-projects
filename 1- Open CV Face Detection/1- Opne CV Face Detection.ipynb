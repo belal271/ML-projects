{
 "cells": [
  {
   "cell_type": "code",
   "execution_count": null,
   "id": "62e0f3d8",
   "metadata": {
    "ExecuteTime": {
     "end_time": "2022-12-18T12:51:22.069460Z",
     "start_time": "2022-12-18T12:51:22.067468Z"
    }
   },
   "outputs": [],
   "source": [
    "import numpy as np\n",
    "import cv2"
   ]
  },
  {
   "cell_type": "code",
   "execution_count": null,
   "id": "7420999c",
   "metadata": {
    "ExecuteTime": {
     "end_time": "2022-12-18T12:51:23.293054Z",
     "start_time": "2022-12-18T12:51:22.433482Z"
    }
   },
   "outputs": [],
   "source": [
    "face_cascade = cv2.CascadeClassifier(\"cascade/haarcascade_frontalface_alt.xml\")\n",
    "cap = cv2.VideoCapture(0)"
   ]
  },
  {
   "cell_type": "code",
   "execution_count": null,
   "id": "4a851cdd",
   "metadata": {
    "ExecuteTime": {
     "end_time": "2022-12-18T12:55:23.149133Z",
     "start_time": "2022-12-18T12:51:23.295054Z"
    }
   },
   "outputs": [],
   "source": [
    "while (True):\n",
    "    # capture frame by frame\n",
    "    ret, frame = cap.read()\n",
    "    gray = cv2.cvtColor(frame, cv2.COLOR_BGR2GRAY)\n",
    "    faces = face_cascade.detectMultiScale(\n",
    "        gray,\n",
    "        scaleFactor=1.5,\n",
    "        minNeighbors=5,\n",
    "    )\n",
    "    for (x, y, w, h) in faces:\n",
    "        print(x, y, w, h)\n",
    "        roi_gray=gray[y:y+h, x:x+w]\n",
    "        my_img = 'my-img.png'\n",
    "        cv2.imwrite(my_img,roi_gray)\n",
    "        \n",
    "        #face frame \n",
    "        color = (255,0,0)#BRG\n",
    "        stroke =2 #line thickness \n",
    "        end_cord_x = x + w\n",
    "        end_cord_y = y + h\n",
    "        cv2.rectangle(frame,(x, y), (end_cord_x, end_cord_y), color, stroke)\n",
    "    \n",
    "   # display the resulting frame\n",
    "    cv2.imshow('frame', frame)\n",
    "    \n",
    "    if cv2.waitKey(20) & 0xFF == ord('q'):\n",
    "        break\n",
    "\n",
    "\n",
    "    \n"
   ]
  },
  {
   "cell_type": "code",
   "execution_count": null,
   "id": "11417e5f",
   "metadata": {
    "ExecuteTime": {
     "end_time": "2022-12-18T12:51:17.478932Z",
     "start_time": "2022-12-18T12:51:17.372457Z"
    }
   },
   "outputs": [],
   "source": [
    "cap.release()\n",
    "cv2.destroyAllWindows()"
   ]
  },
  {
   "cell_type": "code",
   "execution_count": null,
   "id": "7668466d",
   "metadata": {},
   "outputs": [],
   "source": []
  }
 ],
 "metadata": {
  "kernelspec": {
   "display_name": "Python 3 (ipykernel)",
   "language": "python",
   "name": "python3"
  },
  "language_info": {
   "codemirror_mode": {
    "name": "ipython",
    "version": 3
   },
   "file_extension": ".py",
   "mimetype": "text/x-python",
   "name": "python",
   "nbconvert_exporter": "python",
   "pygments_lexer": "ipython3",
   "version": "3.9.15"
  }
 },
 "nbformat": 4,
 "nbformat_minor": 5
}
